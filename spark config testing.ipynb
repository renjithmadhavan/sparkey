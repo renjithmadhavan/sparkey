{
 "cells": [
  {
   "cell_type": "code",
   "execution_count": 1,
   "metadata": {},
   "outputs": [],
   "source": [
    "def qconfig(key):\n",
    "    config_list = spark.sparkContext.getConf().getAll()\n",
    "    for j in key.split():\n",
    "        for i in config_list:\n",
    "            if j in i[0]:\n",
    "                print(\"{:25}:{:>10}\".format(i[0], i[1]))"
   ]
  },
  {
   "cell_type": "code",
   "execution_count": 2,
   "metadata": {},
   "outputs": [
    {
     "name": "stdout",
     "output_type": "stream",
     "text": [
      "spark.yarn.am.memory     :      640m\n",
      "spark.executor.memory    :     5586m\n",
      "spark.driver.memory      :     3840m\n",
      "spark.executor.cores     :         2\n"
     ]
    }
   ],
   "source": [
    "qconfig(\"memory core\")"
   ]
  },
  {
   "cell_type": "code",
   "execution_count": 3,
   "metadata": {},
   "outputs": [],
   "source": [
    "spark = SparkSession.builder \\\n",
    "        .master(\"yarn-client\") \\\n",
    "        .appName(\"spark-test\") \\\n",
    "        .config(\"spark.executor.memory\", \"2g\") \\\n",
    "        .getOrCreate()"
   ]
  },
  {
   "cell_type": "code",
   "execution_count": 4,
   "metadata": {},
   "outputs": [
    {
     "name": "stdout",
     "output_type": "stream",
     "text": [
      "spark.yarn.am.memory     :      640m\n",
      "spark.executor.memory    :        2g\n",
      "spark.driver.memory      :     3840m\n",
      "spark.executor.cores     :         2\n"
     ]
    }
   ],
   "source": [
    "qconfig(\"memory core\")"
   ]
  },
  {
   "cell_type": "code",
   "execution_count": null,
   "metadata": {},
   "outputs": [],
   "source": [
    "spark.conf.set(\"spark.executor.memory\", \"4g\")"
   ]
  },
  {
   "cell_type": "code",
   "execution_count": null,
   "metadata": {},
   "outputs": [],
   "source": [
    "qconfig(\"memory core\")"
   ]
  },
  {
   "cell_type": "code",
   "execution_count": 5,
   "metadata": {},
   "outputs": [],
   "source": [
    "??spark.conf.set"
   ]
  },
  {
   "cell_type": "code",
   "execution_count": 7,
   "metadata": {},
   "outputs": [],
   "source": [
    "spark = SparkSession.builder \\\n",
    "        .master(\"yarn-client\") \\\n",
    "        .appName(\"spark-test\") \\\n",
    "        .config(\"spark.executor.memory\", \"4g\") \\\n",
    "        .getOrCreate()"
   ]
  },
  {
   "cell_type": "code",
   "execution_count": 8,
   "metadata": {},
   "outputs": [
    {
     "name": "stdout",
     "output_type": "stream",
     "text": [
      "spark.yarn.am.memory     :      640m\n",
      "spark.executor.memory    :        4g\n",
      "spark.driver.memory      :     3840m\n",
      "spark.executor.cores     :         2\n"
     ]
    }
   ],
   "source": [
    "qconfig(\"memory core\")"
   ]
  },
  {
   "cell_type": "code",
   "execution_count": 9,
   "metadata": {},
   "outputs": [],
   "source": [
    "### spark.executor.memory cannot be changed run time. It can be changed on or before the session is built"
   ]
  },
  {
   "cell_type": "code",
   "execution_count": 10,
   "metadata": {},
   "outputs": [],
   "source": [
    "spark = SparkSession.builder \\\n",
    "        .master(\"yarn-client\") \\\n",
    "        .appName(\"spark-test\") \\\n",
    "        .config(\"spark.driver.memory\", \"2g\") \\\n",
    "        .getOrCreate()"
   ]
  },
  {
   "cell_type": "code",
   "execution_count": 11,
   "metadata": {},
   "outputs": [
    {
     "name": "stdout",
     "output_type": "stream",
     "text": [
      "spark.yarn.am.memory     :      640m\n",
      "spark.executor.memory    :        4g\n",
      "spark.driver.memory      :        2g\n",
      "spark.executor.cores     :         2\n"
     ]
    }
   ],
   "source": [
    "qconfig(\"memory core\")"
   ]
  },
  {
   "cell_type": "code",
   "execution_count": 12,
   "metadata": {},
   "outputs": [],
   "source": [
    "### spark.driver.memory cannot be changed run time. It can be changed on or before the session is built"
   ]
  },
  {
   "cell_type": "code",
   "execution_count": 14,
   "metadata": {},
   "outputs": [],
   "source": [
    "### how to change multiple properties at the same time\n",
    "spark = SparkSession.builder \\\n",
    "        .master(\"yarn-client\") \\\n",
    "        .appName(\"spark-test\") \\\n",
    "        .config(\"spark.driver.memory\", \"3g\") \\\n",
    "        .config(\"spark.executor.memory\", \"2g\")\\\n",
    "        .getOrCreate()"
   ]
  },
  {
   "cell_type": "code",
   "execution_count": 15,
   "metadata": {},
   "outputs": [
    {
     "name": "stdout",
     "output_type": "stream",
     "text": [
      "spark.yarn.am.memory     :      640m\n",
      "spark.executor.memory    :        2g\n",
      "spark.driver.memory      :        3g\n",
      "spark.executor.cores     :         2\n"
     ]
    }
   ],
   "source": [
    "qconfig(\"memory core\")"
   ]
  },
  {
   "cell_type": "code",
   "execution_count": null,
   "metadata": {},
   "outputs": [],
   "source": []
  }
 ],
 "metadata": {
  "kernelspec": {
   "display_name": "PySpark",
   "language": "python",
   "name": "pyspark"
  },
  "language_info": {
   "codemirror_mode": {
    "name": "ipython",
    "version": 3
   },
   "file_extension": ".py",
   "mimetype": "text/x-python",
   "name": "python",
   "nbconvert_exporter": "python",
   "pygments_lexer": "ipython3",
   "version": "3.6.5"
  }
 },
 "nbformat": 4,
 "nbformat_minor": 2
}